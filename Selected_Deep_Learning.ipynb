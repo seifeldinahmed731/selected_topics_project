{
 "cells": [
  {
   "cell_type": "code",
   "execution_count": 12,
   "id": "79eae64d",
   "metadata": {
    "id": "79eae64d"
   },
   "outputs": [],
   "source": [
    "from keras.models import Sequential\n",
    "from keras.layers import Dense\n",
    "from keras.wrappers.scikit_learn import KerasClassifier\n",
    "from sklearn.model_selection import cross_val_score\n",
    "from sklearn.preprocessing import LabelEncoder\n",
    "from sklearn.model_selection import StratifiedKFold\n",
    "from sklearn.preprocessing import StandardScaler\n",
    "from sklearn.pipeline import Pipeline\n",
    "import pandas as pd\n",
    "import matplotlib.pyplot as plt\n",
    "from matplotlib import style\n",
    "style.use('ggplot')\n",
    "import numpy as np\n",
    "from sklearn.cluster import KMeans\n",
    "from sklearn import preprocessing\n"
   ]
  },
  {
   "cell_type": "code",
   "execution_count": 2,
   "id": "pob01Ne-bXhB",
   "metadata": {
    "colab": {
     "base_uri": "https://localhost:8080/"
    },
    "id": "pob01Ne-bXhB",
    "outputId": "773680da-0817-4bc0-86ee-4a0f4333f965"
   },
   "outputs": [],
   "source": [
    "# from google.colab import drive\n",
    "# drive.mount('/content/drive')"
   ]
  },
  {
   "cell_type": "code",
   "execution_count": 3,
   "id": "496d88b6",
   "metadata": {
    "id": "496d88b6"
   },
   "outputs": [],
   "source": [
    "# load dataset\n",
    "df = pd.read_csv(\"adult.xls\", header=None)\n",
    "for i in range(14):\n",
    "  df.drop(df.loc[df[i]==\"?\"].index, inplace=True)\n",
    "  #df = df.reset_index(drop=True)\n",
    "#dataset = df.values\n",
    "df.dropna(inplace=True)\n",
    "\n",
    "Dataset=df.values"
   ]
  },
  {
   "cell_type": "code",
   "execution_count": 4,
   "id": "5TJhzIK1sUn7",
   "metadata": {
    "colab": {
     "base_uri": "https://localhost:8080/"
    },
    "id": "5TJhzIK1sUn7",
    "outputId": "89a1c585-e6f8-4cfe-8b4f-604a005dd625"
   },
   "outputs": [
    {
     "name": "stdout",
     "output_type": "stream",
     "text": [
      "['income' '<=50K' '<=50K' ... '>50K' '<=50K' '<=50K']\n",
      "[2 0 0 ... 1 0 0]\n"
     ]
    }
   ],
   "source": [
    "# encode class values as integers\n",
    "Y = Dataset[:,14]\n",
    "#Y =Y[1:]\n",
    "print (Y)\n",
    "encoder = LabelEncoder()\n",
    "encoder.fit(Y)\n",
    "encoded_Y = encoder.transform(Y)\n",
    "print(encoded_Y)"
   ]
  },
  {
   "cell_type": "code",
   "execution_count": 5,
   "id": "2e27f9cb",
   "metadata": {
    "id": "2e27f9cb"
   },
   "outputs": [],
   "source": [
    "def handle_non_numerical_data(df):\n",
    "    columns = df.columns.values\n",
    "    for column in columns:\n",
    "        text_digit_vals = {}\n",
    "        def convert_to_int(val):\n",
    "            return text_digit_vals[val]\n",
    "\n",
    "        if df[column].dtype != np.int64 and df[column].dtype != np.float64:\n",
    "            column_contents = df[column].values.tolist()\n",
    "            unique_elements = set(column_contents)\n",
    "            x = 0\n",
    "            for unique in unique_elements:\n",
    "                if unique not in text_digit_vals:\n",
    "                    text_digit_vals[unique] = x\n",
    "                    x+=1\n",
    "\n",
    "            df[column] = list(map(convert_to_int, df[column]))\n",
    "\n",
    "    return df"
   ]
  },
  {
   "cell_type": "code",
   "execution_count": 6,
   "id": "253ffcac",
   "metadata": {
    "id": "253ffcac"
   },
   "outputs": [],
   "source": [
    "df = handle_non_numerical_data(df)\n",
    "df=df.values"
   ]
  },
  {
   "cell_type": "code",
   "execution_count": 7,
   "id": "a40ef549",
   "metadata": {
    "colab": {
     "base_uri": "https://localhost:8080/"
    },
    "id": "a40ef549",
    "outputId": "ba70e01e-bdbe-4e40-b982-1c24a5105c36"
   },
   "outputs": [
    {
     "name": "stdout",
     "output_type": "stream",
     "text": [
      "[[   56     4  4851 ...    87    39    38]\n",
      " [   65     7 18568 ...    89    73    10]\n",
      " [   68     7 14718 ...    28     7    10]\n",
      " ...\n",
      " [   27     7 16207 ...    54     7    10]\n",
      " [   57     7  8754 ...    54     7    10]\n",
      " [   71     7  7690 ...    54    44    10]]\n"
     ]
    }
   ],
   "source": [
    "# split into input (X) and output (Y) variables which has 15 rows\n",
    "X = df[:,0:14]\n",
    "#Y = df[:,14]\n",
    "print(X)"
   ]
  },
  {
   "cell_type": "code",
   "execution_count": 8,
   "id": "dfed0a11",
   "metadata": {
    "id": "dfed0a11"
   },
   "outputs": [],
   "source": [
    "# baseline model\n",
    "# def create_baseline():\n",
    "# \t# create model\n",
    "# \tmodel = Sequential()\n",
    "# \tmodel.add(Dense(14, input_dim=14, activation='relu'))\n",
    "# \tmodel.add(Dense(1, activation='sigmoid'))\n",
    "# \t# Compile model\n",
    "# \tmodel.compile(loss='binary_crossentropy', optimizer='adam', metrics=['accuracy'])\n",
    "# \treturn model"
   ]
  },
  {
   "cell_type": "code",
   "execution_count": 9,
   "id": "f7e1de84",
   "metadata": {
    "id": "f7e1de84"
   },
   "outputs": [],
   "source": [
    "\n",
    "# larger model\n",
    "def create_model():\n",
    "\t# create model\n",
    "\tmodel = Sequential()\n",
    "\tmodel.add(Dense(14, input_dim=14, activation='swish'))\n",
    "\tmodel.add(Dense(7, activation='relu'))\n",
    "\tmodel.add(Dense(1, activation='sigmoid'))\n",
    "\t# Compile model\n",
    "\tmodel.compile(loss='binary_crossentropy', optimizer='adam', metrics=['accuracy'])\n",
    "\treturn model\n",
    "\n",
    "\n"
   ]
  },
  {
   "cell_type": "code",
   "execution_count": 10,
   "id": "3f58c125",
   "metadata": {
    "colab": {
     "base_uri": "https://localhost:8080/",
     "height": 450
    },
    "id": "3f58c125",
    "outputId": "0b3b23f6-36d6-4dab-b779-8d76dd159a05"
   },
   "outputs": [
    {
     "name": "stderr",
     "output_type": "stream",
     "text": [
      "C:\\Users\\Mr\\AppData\\Local\\Temp/ipykernel_111120/3981285114.py:4: DeprecationWarning: KerasClassifier is deprecated, use Sci-Keras (https://github.com/adriangb/scikeras) instead.\n",
      "  estimators.append(('mlp', KerasClassifier(build_fn=create_model, epochs=300, batch_size=12, verbose=0)))\n",
      "E:\\Anaconda\\envs\\notebook\\lib\\site-packages\\sklearn\\model_selection\\_split.py:676: UserWarning: The least populated class in y has only 1 members, which is less than n_splits=10.\n",
      "  warnings.warn(\n"
     ]
    },
    {
     "name": "stdout",
     "output_type": "stream",
     "text": [
      "Larger: 82.66% (0.80%)\n",
      "INFO:tensorflow:Assets written to: Saved-Model\\assets\n"
     ]
    }
   ],
   "source": [
    "estimators = []\n",
    "estimators.append(('standardize', StandardScaler()))\n",
    "Model = create_model()\n",
    "estimators.append(('mlp', KerasClassifier(build_fn=create_model, epochs=300, batch_size=12, verbose=0)))\n",
    "pipeline = Pipeline(estimators)\n",
    "kfold = StratifiedKFold(n_splits=10, shuffle=True)\n",
    "results = cross_val_score(pipeline, X, encoded_Y, cv=kfold)\n",
    "print(\"Larger: %.2f%% (%.2f%%)\" % (results.mean()*100, results.std()*100))\n",
    "Model.save(\"Saved-Model\")"
   ]
  },
  {
   "cell_type": "code",
   "execution_count": 11,
   "id": "431ac398",
   "metadata": {
    "id": "431ac398"
   },
   "outputs": [],
   "source": [
    "#model = keras.models.load_model('path/to/location')"
   ]
  },
  {
   "cell_type": "code",
   "execution_count": null,
   "id": "0b645cf3",
   "metadata": {
    "id": "0b645cf3"
   },
   "outputs": [],
   "source": []
  }
 ],
 "metadata": {
  "accelerator": "GPU",
  "colab": {
   "collapsed_sections": [],
   "name": "Selected-Deep-Learning.ipynb",
   "provenance": []
  },
  "kernelspec": {
   "display_name": "Python 3 (ipykernel)",
   "language": "python",
   "name": "python3"
  },
  "language_info": {
   "codemirror_mode": {
    "name": "ipython",
    "version": 3
   },
   "file_extension": ".py",
   "mimetype": "text/x-python",
   "name": "python",
   "nbconvert_exporter": "python",
   "pygments_lexer": "ipython3",
   "version": "3.9.7"
  }
 },
 "nbformat": 4,
 "nbformat_minor": 5
}
